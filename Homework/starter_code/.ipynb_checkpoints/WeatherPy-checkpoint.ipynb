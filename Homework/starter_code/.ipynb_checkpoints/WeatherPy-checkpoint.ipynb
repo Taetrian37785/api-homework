{
 "cells": [
  {
   "cell_type": "markdown",
   "metadata": {},
   "source": [
    "# WeatherPy\n",
    "----\n",
    "\n",
    "#### Note\n",
    "* Instructions have been included for each segment. You do not have to follow them exactly, but they are included to help you think through the steps."
   ]
  },
  {
   "cell_type": "code",
   "execution_count": 1,
   "metadata": {
    "scrolled": true
   },
   "outputs": [],
   "source": [
    "# Dependencies and Setup\n",
    "import matplotlib.pyplot as plt\n",
    "import pandas as pd\n",
    "import numpy as np\n",
    "import requests\n",
    "import time\n",
    "from scipy.stats import linregress\n",
    "\n",
    "# Import API key\n",
    "from api_keys import weather_api_key\n",
    "\n",
    "# Incorporated citipy to determine city based on latitude and longitude\n",
    "from citipy import citipy\n",
    "\n",
    "# Output File (CSV)\n",
    "output_data_file = \"output_data/cities.csv\"\n",
    "\n",
    "# Range of latitudes and longitudes\n",
    "lat_range = (-90, 90)\n",
    "lng_range = (-180, 180)"
   ]
  },
  {
   "cell_type": "markdown",
   "metadata": {},
   "source": [
    "## Generate Cities List"
   ]
  },
  {
   "cell_type": "code",
   "execution_count": 2,
   "metadata": {},
   "outputs": [
    {
     "data": {
      "text/plain": [
       "638"
      ]
     },
     "execution_count": 2,
     "metadata": {},
     "output_type": "execute_result"
    }
   ],
   "source": [
    "# List for holding lat_lngs and cities\n",
    "lat_lngs = []\n",
    "cities = []\n",
    "\n",
    "# Create a set of random lat and lng combinations\n",
    "lats = np.random.uniform(lat_range[0], lat_range[1], size=1500)\n",
    "lngs = np.random.uniform(lng_range[0], lng_range[1], size=1500)\n",
    "lat_lngs = zip(lats, lngs)\n",
    "\n",
    "# Identify nearest city for each lat, lng combination\n",
    "for lat_lng in lat_lngs:\n",
    "    city = citipy.nearest_city(lat_lng[0], lat_lng[1]).city_name\n",
    "    \n",
    "    # If the city is unique, then add it to a our cities list\n",
    "    if city not in cities:\n",
    "        cities.append(city)\n",
    "\n",
    "# Print the city count to confirm sufficient count\n",
    "len(cities)"
   ]
  },
  {
   "cell_type": "markdown",
   "metadata": {},
   "source": [
    "### Perform API Calls\n",
    "* Perform a weather check on each city using a series of successive API calls.\n",
    "* Include a print log of each city as it'sbeing processed (with the city number and city name).\n"
   ]
  },
  {
   "cell_type": "code",
   "execution_count": 3,
   "metadata": {
    "scrolled": false
   },
   "outputs": [
    {
     "name": "stdout",
     "output_type": "stream",
     "text": [
      "Beginning Data Retrieval     \n",
      "-----------------------------\n",
      "Processing Record 1 of Set 1 | huron\n",
      "Processing Record 2 of Set 1 | leningradskiy\n",
      "Processing Record 3 of Set 1 | mapimi\n",
      "Processing Record 4 of Set 1 | bluff\n",
      "Processing Record 5 of Set 1 | tiznit\n",
      "Processing Record 6 of Set 1 | rio gallegos\n",
      "Processing Record 7 of Set 1 | muzhi\n",
      "Processing Record 8 of Set 1 | saint-leu\n",
      "Processing Record 9 of Set 1 | ushuaia\n",
      "Processing Record 10 of Set 1 | walvis bay\n",
      "Processing Record 11 of Set 1 | clyde river\n",
      "Processing Record 12 of Set 1 | mahebourg\n",
      "Processing Record 13 of Set 1 | khor\n",
      "Processing Record 14 of Set 1 | atuona\n",
      "Processing Record 15 of Set 1 | vila franca do campo\n",
      "Processing Record 16 of Set 1 | toba tek singh\n",
      "Processing Record 17 of Set 1 | busselton\n",
      "Processing Record 18 of Set 1 | mudanjiang\n",
      "Processing Record 19 of Set 1 | huai thalaeng\n",
      "Processing Record 20 of Set 1 | cape town\n",
      "Processing Record 21 of Set 1 | saint george\n",
      "Processing Record 22 of Set 1 | baykit\n",
      "Processing Record 23 of Set 1 | port blair\n",
      "Processing Record 24 of Set 1 | provideniya\n",
      "Processing Record 25 of Set 1 | taolanaro\n",
      "City not found. Skipping...\n",
      "Processing Record 26 of Set 1 | yaring\n",
      "Processing Record 27 of Set 1 | katsuura\n",
      "Processing Record 28 of Set 1 | hobart\n",
      "Processing Record 29 of Set 1 | makakilo city\n",
      "Processing Record 30 of Set 1 | barentsburg\n",
      "City not found. Skipping...\n",
      "Processing Record 31 of Set 1 | bonfim\n",
      "Processing Record 32 of Set 1 | jamestown\n",
      "Processing Record 33 of Set 1 | kodiak\n",
      "Processing Record 34 of Set 1 | beringovskiy\n",
      "Processing Record 35 of Set 1 | butaritari\n",
      "Processing Record 36 of Set 1 | nizwa\n",
      "Processing Record 37 of Set 1 | bethel\n",
      "Processing Record 38 of Set 1 | port elizabeth\n",
      "Processing Record 39 of Set 1 | port arthur\n",
      "Processing Record 40 of Set 1 | westport\n",
      "Processing Record 41 of Set 1 | illoqqortoormiut\n",
      "City not found. Skipping...\n",
      "Processing Record 42 of Set 1 | vaitupu\n",
      "City not found. Skipping...\n",
      "Processing Record 43 of Set 1 | saskylakh\n",
      "Processing Record 44 of Set 1 | rikitea\n",
      "Processing Record 45 of Set 1 | mataura\n",
      "Processing Record 46 of Set 1 | airai\n",
      "Processing Record 47 of Set 1 | ponta do sol\n",
      "Processing Record 48 of Set 1 | khatanga\n",
      "Processing Record 49 of Set 1 | tarauaca\n",
      "Processing Record 50 of Set 1 | attawapiskat\n",
      "City not found. Skipping...\n",
      "Processing Record 0 of Set 2 | kambove\n",
      "Processing Record 1 of Set 2 | punta arenas\n",
      "Processing Record 2 of Set 2 | conceicao do araguaia\n",
      "Processing Record 3 of Set 2 | mount darwin\n",
      "Processing Record 4 of Set 2 | port alfred\n",
      "Processing Record 5 of Set 2 | namibe\n",
      "Processing Record 6 of Set 2 | jiaocheng\n",
      "Processing Record 7 of Set 2 | sentyabrskiy\n",
      "City not found. Skipping...\n",
      "Processing Record 8 of Set 2 | shilovo\n",
      "Processing Record 9 of Set 2 | mar del plata\n",
      "Processing Record 10 of Set 2 | aykhal\n",
      "Processing Record 11 of Set 2 | avera\n",
      "Processing Record 12 of Set 2 | avigliano\n",
      "Processing Record 13 of Set 2 | golyshmanovo\n",
      "Processing Record 14 of Set 2 | qaanaaq\n",
      "Processing Record 15 of Set 2 | la ronge\n",
      "Processing Record 16 of Set 2 | dikson\n",
      "Processing Record 17 of Set 2 | bur gabo\n",
      "City not found. Skipping...\n",
      "Processing Record 18 of Set 2 | hermanus\n",
      "Processing Record 19 of Set 2 | hasaki\n",
      "Processing Record 20 of Set 2 | adeje\n",
      "Processing Record 21 of Set 2 | tiksi\n",
      "Processing Record 22 of Set 2 | nikolskoye\n",
      "Processing Record 23 of Set 2 | new norfolk\n",
      "Processing Record 24 of Set 2 | byumba\n",
      "Processing Record 25 of Set 2 | fevralsk\n",
      "City not found. Skipping...\n",
      "Processing Record 26 of Set 2 | key largo\n",
      "Processing Record 27 of Set 2 | quatre cocos\n",
      "Processing Record 28 of Set 2 | camacha\n",
      "Processing Record 29 of Set 2 | tasiilaq\n",
      "Processing Record 30 of Set 2 | hailey\n",
      "Processing Record 31 of Set 2 | havre-saint-pierre\n",
      "Processing Record 32 of Set 2 | esperance\n",
      "Processing Record 33 of Set 2 | tautira\n",
      "Processing Record 34 of Set 2 | kolokani\n",
      "Processing Record 35 of Set 2 | east london\n",
      "Processing Record 36 of Set 2 | cordoba\n",
      "Processing Record 37 of Set 2 | buala\n",
      "Processing Record 38 of Set 2 | yellowknife\n",
      "Processing Record 39 of Set 2 | flinders\n",
      "Processing Record 40 of Set 2 | norman wells\n",
      "Processing Record 41 of Set 2 | elko\n",
      "Processing Record 42 of Set 2 | olafsvik\n",
      "Processing Record 43 of Set 2 | pemberton\n",
      "Processing Record 44 of Set 2 | kapaa\n",
      "Processing Record 45 of Set 2 | cayenne\n",
      "Processing Record 46 of Set 2 | lebu\n",
      "Processing Record 47 of Set 2 | bredasdorp\n",
      "Processing Record 48 of Set 2 | labutta\n",
      "City not found. Skipping...\n",
      "Processing Record 49 of Set 2 | arbagar\n",
      "Processing Record 0 of Set 3 | ladispoli\n",
      "Processing Record 1 of Set 3 | okhotsk\n",
      "Processing Record 2 of Set 3 | dryden\n",
      "Processing Record 3 of Set 3 | college\n",
      "Processing Record 4 of Set 3 | arlit\n",
      "Processing Record 5 of Set 3 | hilo\n",
      "Processing Record 6 of Set 3 | puerto ayora\n",
      "Processing Record 7 of Set 3 | georgetown\n",
      "Processing Record 8 of Set 3 | police\n",
      "Processing Record 9 of Set 3 | sangar\n",
      "Processing Record 10 of Set 3 | qaqortoq\n",
      "Processing Record 11 of Set 3 | bargal\n",
      "City not found. Skipping...\n",
      "Processing Record 12 of Set 3 | vaini\n",
      "Processing Record 13 of Set 3 | sisimiut\n",
      "Processing Record 14 of Set 3 | avarua\n",
      "Processing Record 15 of Set 3 | padang\n",
      "Processing Record 16 of Set 3 | kuche\n",
      "City not found. Skipping...\n",
      "Processing Record 17 of Set 3 | palabuhanratu\n",
      "City not found. Skipping...\n",
      "Processing Record 18 of Set 3 | arraial do cabo\n",
      "Processing Record 19 of Set 3 | tabialan\n",
      "City not found. Skipping...\n",
      "Processing Record 20 of Set 3 | scarborough\n",
      "Processing Record 21 of Set 3 | buckeye\n",
      "Processing Record 22 of Set 3 | jackson\n",
      "Processing Record 23 of Set 3 | port augusta\n",
      "Processing Record 24 of Set 3 | biak\n",
      "Processing Record 25 of Set 3 | cabo san lucas\n",
      "Processing Record 26 of Set 3 | nome\n",
      "Processing Record 27 of Set 3 | rundu\n",
      "Processing Record 28 of Set 3 | amderma\n",
      "City not found. Skipping...\n",
      "Processing Record 29 of Set 3 | sandwick\n",
      "Processing Record 30 of Set 3 | bengkulu\n",
      "Processing Record 31 of Set 3 | suez\n",
      "Processing Record 32 of Set 3 | mitsamiouli\n",
      "Processing Record 33 of Set 3 | fortuna\n",
      "Processing Record 34 of Set 3 | rapar\n",
      "Processing Record 35 of Set 3 | zaranj\n",
      "Processing Record 36 of Set 3 | rungata\n",
      "City not found. Skipping...\n",
      "Processing Record 37 of Set 3 | rocha\n",
      "Processing Record 38 of Set 3 | coihaique\n",
      "Processing Record 39 of Set 3 | vostok\n",
      "Processing Record 40 of Set 3 | gorom-gorom\n",
      "Processing Record 41 of Set 3 | san cristobal\n",
      "Processing Record 42 of Set 3 | albany\n",
      "Processing Record 43 of Set 3 | adre\n",
      "Processing Record 44 of Set 3 | kahului\n",
      "Processing Record 45 of Set 3 | lagunas\n",
      "Processing Record 46 of Set 3 | opuwo\n",
      "Processing Record 47 of Set 3 | sovetskiy\n",
      "Processing Record 48 of Set 3 | sinop\n",
      "Processing Record 49 of Set 3 | iranshahr\n",
      "Processing Record 0 of Set 4 | tashara\n",
      "Processing Record 1 of Set 4 | los llanos de aridane\n",
      "Processing Record 2 of Set 4 | castro\n",
      "Processing Record 3 of Set 4 | churachandpur\n",
      "Processing Record 4 of Set 4 | nouadhibou\n",
      "Processing Record 5 of Set 4 | alice springs\n",
      "Processing Record 6 of Set 4 | waingapu\n",
      "Processing Record 7 of Set 4 | saleaula\n",
      "City not found. Skipping...\n",
      "Processing Record 8 of Set 4 | carnarvon\n",
      "Processing Record 9 of Set 4 | ust-omchug\n",
      "Processing Record 10 of Set 4 | bilma\n",
      "Processing Record 11 of Set 4 | torbay\n",
      "Processing Record 12 of Set 4 | quang ngai\n",
      "Processing Record 13 of Set 4 | te anau\n",
      "Processing Record 14 of Set 4 | ulaangom\n",
      "Processing Record 15 of Set 4 | yokadouma\n",
      "Processing Record 16 of Set 4 | marienburg\n",
      "Processing Record 17 of Set 4 | saldanha\n",
      "Processing Record 18 of Set 4 | victoria\n",
      "Processing Record 19 of Set 4 | cedar city\n",
      "Processing Record 20 of Set 4 | caravelas\n",
      "Processing Record 21 of Set 4 | mecca\n",
      "Processing Record 22 of Set 4 | bandarbeyla\n",
      "Processing Record 23 of Set 4 | coquimbo\n",
      "Processing Record 24 of Set 4 | at-bashi\n",
      "Processing Record 25 of Set 4 | sao filipe\n",
      "Processing Record 26 of Set 4 | santa cruz de la palma\n",
      "Processing Record 27 of Set 4 | antalaha\n",
      "Processing Record 28 of Set 4 | grand river south east\n",
      "City not found. Skipping...\n",
      "Processing Record 29 of Set 4 | capreol\n",
      "Processing Record 30 of Set 4 | lagoa\n",
      "Processing Record 31 of Set 4 | upernavik\n",
      "Processing Record 32 of Set 4 | sagua la grande\n",
      "Processing Record 33 of Set 4 | cururupu\n",
      "Processing Record 34 of Set 4 | belushya guba\n"
     ]
    },
    {
     "name": "stdout",
     "output_type": "stream",
     "text": [
      "City not found. Skipping...\n",
      "Processing Record 35 of Set 4 | chekhov\n",
      "Processing Record 36 of Set 4 | perivolion\n",
      "Processing Record 37 of Set 4 | broome\n",
      "Processing Record 38 of Set 4 | balsa\n",
      "Processing Record 39 of Set 4 | flin flon\n",
      "Processing Record 40 of Set 4 | kaitangata\n",
      "Processing Record 41 of Set 4 | bathsheba\n",
      "Processing Record 42 of Set 4 | cherskiy\n",
      "Processing Record 43 of Set 4 | port hardy\n",
      "Processing Record 44 of Set 4 | kavieng\n",
      "Processing Record 45 of Set 4 | chokurdakh\n",
      "Processing Record 46 of Set 4 | jiangkou\n",
      "Processing Record 47 of Set 4 | najran\n",
      "Processing Record 48 of Set 4 | pevek\n",
      "Processing Record 49 of Set 4 | ust-kamchatsk\n",
      "City not found. Skipping...\n",
      "Processing Record 0 of Set 5 | venice\n",
      "Processing Record 1 of Set 5 | saint-philippe\n",
      "Processing Record 2 of Set 5 | sorland\n",
      "Processing Record 3 of Set 5 | pisco\n",
      "Processing Record 4 of Set 5 | nuuk\n",
      "Processing Record 5 of Set 5 | souillac\n",
      "Processing Record 6 of Set 5 | vestmannaeyjar\n",
      "Processing Record 7 of Set 5 | karasjok\n",
      "Processing Record 8 of Set 5 | palmer\n",
      "Processing Record 9 of Set 5 | gurgan\n",
      "City not found. Skipping...\n",
      "Processing Record 10 of Set 5 | barrow\n",
      "Processing Record 11 of Set 5 | kirakira\n",
      "Processing Record 12 of Set 5 | guerrero negro\n",
      "Processing Record 13 of Set 5 | sola\n",
      "Processing Record 14 of Set 5 | preston\n",
      "Processing Record 15 of Set 5 | carutapera\n",
      "Processing Record 16 of Set 5 | ormara\n",
      "Processing Record 17 of Set 5 | pacific grove\n",
      "Processing Record 18 of Set 5 | waipawa\n",
      "Processing Record 19 of Set 5 | grand gaube\n",
      "Processing Record 20 of Set 5 | kuala lipis\n",
      "Processing Record 21 of Set 5 | smithers\n",
      "Processing Record 22 of Set 5 | kungsbacka\n",
      "Processing Record 23 of Set 5 | amga\n",
      "Processing Record 24 of Set 5 | auki\n",
      "Processing Record 25 of Set 5 | rexburg\n",
      "Processing Record 26 of Set 5 | thompson\n",
      "Processing Record 27 of Set 5 | tezu\n",
      "Processing Record 28 of Set 5 | ribeira grande\n",
      "Processing Record 29 of Set 5 | tuktoyaktuk\n",
      "Processing Record 30 of Set 5 | mys shmidta\n",
      "City not found. Skipping...\n",
      "Processing Record 31 of Set 5 | lompoc\n",
      "Processing Record 32 of Set 5 | iberia\n",
      "Processing Record 33 of Set 5 | tromso\n",
      "Processing Record 34 of Set 5 | necochea\n",
      "Processing Record 35 of Set 5 | samusu\n",
      "City not found. Skipping...\n",
      "Processing Record 36 of Set 5 | soubre\n",
      "Processing Record 37 of Set 5 | bacuit\n",
      "City not found. Skipping...\n",
      "Processing Record 38 of Set 5 | tsihombe\n",
      "City not found. Skipping...\n",
      "Processing Record 39 of Set 5 | lamar\n",
      "Processing Record 40 of Set 5 | hithadhoo\n",
      "Processing Record 41 of Set 5 | kemijarvi\n",
      "Processing Record 42 of Set 5 | longyearbyen\n",
      "Processing Record 43 of Set 5 | nanga eboko\n",
      "Processing Record 44 of Set 5 | pilar\n",
      "Processing Record 45 of Set 5 | novominskaya\n",
      "Processing Record 46 of Set 5 | lalmohan\n",
      "Processing Record 47 of Set 5 | the pas\n",
      "Processing Record 48 of Set 5 | guadalupe y calvo\n",
      "Processing Record 49 of Set 5 | krasnokamensk\n",
      "Processing Record 0 of Set 6 | korla\n",
      "Processing Record 1 of Set 6 | natal\n",
      "Processing Record 2 of Set 6 | san juan\n",
      "Processing Record 3 of Set 6 | nanortalik\n",
      "Processing Record 4 of Set 6 | merauke\n",
      "Processing Record 5 of Set 6 | shache\n",
      "Processing Record 6 of Set 6 | guangyuan\n",
      "Processing Record 7 of Set 6 | iqaluit\n",
      "Processing Record 8 of Set 6 | bambous virieux\n",
      "Processing Record 9 of Set 6 | shakawe\n",
      "Processing Record 10 of Set 6 | berlevag\n",
      "Processing Record 11 of Set 6 | mandan\n",
      "Processing Record 12 of Set 6 | portage\n",
      "Processing Record 13 of Set 6 | zhaotong\n",
      "Processing Record 14 of Set 6 | saint-augustin\n",
      "Processing Record 15 of Set 6 | turukhansk\n",
      "Processing Record 16 of Set 6 | lebyazhye\n",
      "Processing Record 17 of Set 6 | minsk\n",
      "Processing Record 18 of Set 6 | muros\n",
      "Processing Record 19 of Set 6 | buraydah\n",
      "Processing Record 20 of Set 6 | woodward\n",
      "Processing Record 21 of Set 6 | borlange\n",
      "City not found. Skipping...\n",
      "Processing Record 22 of Set 6 | viedma\n",
      "Processing Record 23 of Set 6 | ternate\n",
      "Processing Record 24 of Set 6 | rozkishne\n",
      "Processing Record 25 of Set 6 | tornio\n",
      "Processing Record 26 of Set 6 | rawatsar\n",
      "Processing Record 27 of Set 6 | hami\n",
      "Processing Record 28 of Set 6 | kruisfontein\n",
      "Processing Record 29 of Set 6 | paamiut\n",
      "Processing Record 30 of Set 6 | san vicente\n",
      "Processing Record 31 of Set 6 | ksenyevka\n",
      "City not found. Skipping...\n",
      "Processing Record 32 of Set 6 | puyang\n",
      "Processing Record 33 of Set 6 | nicoya\n",
      "Processing Record 34 of Set 6 | talnakh\n",
      "Processing Record 35 of Set 6 | vao\n",
      "Processing Record 36 of Set 6 | aporawan\n",
      "City not found. Skipping...\n",
      "Processing Record 37 of Set 6 | kholm\n",
      "Processing Record 38 of Set 6 | san patricio\n",
      "Processing Record 39 of Set 6 | mount isa\n",
      "Processing Record 40 of Set 6 | verkhnevilyuysk\n",
      "Processing Record 41 of Set 6 | silchar\n",
      "Processing Record 42 of Set 6 | beloha\n",
      "Processing Record 43 of Set 6 | cardenas\n",
      "Processing Record 44 of Set 6 | geraldton\n",
      "Processing Record 45 of Set 6 | san jose\n",
      "Processing Record 46 of Set 6 | mao\n",
      "Processing Record 47 of Set 6 | ust-tsilma\n",
      "Processing Record 48 of Set 6 | marcona\n",
      "City not found. Skipping...\n",
      "Processing Record 49 of Set 6 | christchurch\n",
      "Processing Record 0 of Set 7 | husavik\n",
      "Processing Record 1 of Set 7 | bokspits\n",
      "City not found. Skipping...\n",
      "Processing Record 2 of Set 7 | faanui\n",
      "Processing Record 3 of Set 7 | mukhen\n",
      "Processing Record 4 of Set 7 | akdagmadeni\n",
      "Processing Record 5 of Set 7 | kasempa\n",
      "Processing Record 6 of Set 7 | valkeala\n",
      "Processing Record 7 of Set 7 | nizhneyansk\n",
      "City not found. Skipping...\n",
      "Processing Record 8 of Set 7 | tilichiki\n",
      "Processing Record 9 of Set 7 | saint-joseph\n",
      "Processing Record 10 of Set 7 | ulladulla\n",
      "Processing Record 11 of Set 7 | el roble\n",
      "Processing Record 12 of Set 7 | harper\n",
      "Processing Record 13 of Set 7 | santa cruz\n",
      "Processing Record 14 of Set 7 | vaitape\n",
      "Processing Record 15 of Set 7 | ruatoria\n",
      "City not found. Skipping...\n",
      "Processing Record 16 of Set 7 | isangel\n",
      "Processing Record 17 of Set 7 | sept-iles\n",
      "Processing Record 18 of Set 7 | victor harbor\n",
      "Processing Record 19 of Set 7 | port-gentil\n",
      "Processing Record 20 of Set 7 | samarai\n",
      "Processing Record 21 of Set 7 | batticaloa\n",
      "Processing Record 22 of Set 7 | khorramshahr\n",
      "Processing Record 23 of Set 7 | villanueva\n",
      "Processing Record 24 of Set 7 | kantang\n",
      "Processing Record 25 of Set 7 | turochak\n",
      "Processing Record 26 of Set 7 | juye\n",
      "Processing Record 27 of Set 7 | thunder bay\n",
      "Processing Record 28 of Set 7 | teya\n",
      "Processing Record 29 of Set 7 | aklavik\n",
      "Processing Record 30 of Set 7 | kerouane\n",
      "Processing Record 31 of Set 7 | jiddah\n",
      "City not found. Skipping...\n",
      "Processing Record 32 of Set 7 | solnechnyy\n",
      "Processing Record 33 of Set 7 | ca mau\n",
      "Processing Record 34 of Set 7 | douentza\n",
      "Processing Record 35 of Set 7 | honiara\n",
      "Processing Record 36 of Set 7 | boende\n",
      "Processing Record 37 of Set 7 | gizo\n",
      "Processing Record 38 of Set 7 | hvolsvollur\n",
      "Processing Record 39 of Set 7 | moratuwa\n",
      "Processing Record 40 of Set 7 | gamba\n",
      "Processing Record 41 of Set 7 | road town\n",
      "Processing Record 42 of Set 7 | amapa\n",
      "Processing Record 43 of Set 7 | merrill\n",
      "Processing Record 44 of Set 7 | zhigansk\n",
      "Processing Record 45 of Set 7 | phalodi\n",
      "Processing Record 46 of Set 7 | laiagam\n",
      "City not found. Skipping...\n",
      "Processing Record 47 of Set 7 | develi\n",
      "Processing Record 48 of Set 7 | monte santo\n",
      "Processing Record 49 of Set 7 | eyl\n",
      "Processing Record 0 of Set 8 | kindu\n",
      "Processing Record 1 of Set 8 | rawson\n",
      "Processing Record 2 of Set 8 | dhidhdhoo\n",
      "Processing Record 3 of Set 8 | jumla\n",
      "Processing Record 4 of Set 8 | luderitz\n",
      "Processing Record 5 of Set 8 | huanren\n",
      "Processing Record 6 of Set 8 | cam pha\n",
      "City not found. Skipping...\n",
      "Processing Record 7 of Set 8 | lavrentiya\n",
      "Processing Record 8 of Set 8 | canete\n",
      "Processing Record 9 of Set 8 | okoneshnikovo\n",
      "Processing Record 10 of Set 8 | mujiayingzi\n",
      "Processing Record 11 of Set 8 | rokytne\n",
      "Processing Record 12 of Set 8 | riyadh\n",
      "Processing Record 13 of Set 8 | molteno\n",
      "Processing Record 14 of Set 8 | malanje\n",
      "Processing Record 15 of Set 8 | menongue\n",
      "Processing Record 16 of Set 8 | panguna\n",
      "Processing Record 17 of Set 8 | ilulissat\n",
      "Processing Record 18 of Set 8 | vila do maio\n",
      "Processing Record 19 of Set 8 | chuy\n",
      "Processing Record 20 of Set 8 | indiaroba\n",
      "Processing Record 21 of Set 8 | pangnirtung\n",
      "Processing Record 22 of Set 8 | miracema do tocantins\n",
      "Processing Record 23 of Set 8 | nagar karnul\n"
     ]
    },
    {
     "name": "stdout",
     "output_type": "stream",
     "text": [
      "Processing Record 24 of Set 8 | sibu\n",
      "Processing Record 25 of Set 8 | choix\n",
      "Processing Record 26 of Set 8 | batagay\n",
      "Processing Record 27 of Set 8 | hovd\n",
      "Processing Record 28 of Set 8 | kaduqli\n",
      "Processing Record 29 of Set 8 | beyneu\n",
      "Processing Record 30 of Set 8 | vrangel\n",
      "Processing Record 31 of Set 8 | louisbourg\n",
      "City not found. Skipping...\n",
      "Processing Record 32 of Set 8 | shiyan\n",
      "Processing Record 33 of Set 8 | verkhnyaya toyma\n",
      "Processing Record 34 of Set 8 | saint-pierre\n",
      "Processing Record 35 of Set 8 | alassio\n",
      "Processing Record 36 of Set 8 | akyab\n",
      "Processing Record 37 of Set 8 | cortez\n",
      "Processing Record 38 of Set 8 | tawau\n",
      "Processing Record 39 of Set 8 | mahibadhoo\n",
      "Processing Record 40 of Set 8 | dawlatabad\n",
      "Processing Record 41 of Set 8 | grenfell\n",
      "Processing Record 42 of Set 8 | pontarlier\n",
      "Processing Record 43 of Set 8 | richards bay\n",
      "Processing Record 44 of Set 8 | roma\n",
      "Processing Record 45 of Set 8 | san felipe\n",
      "Processing Record 46 of Set 8 | salalah\n",
      "Processing Record 47 of Set 8 | alekseyevsk\n",
      "Processing Record 48 of Set 8 | lolua\n",
      "City not found. Skipping...\n",
      "Processing Record 49 of Set 8 | glarus\n",
      "Processing Record 0 of Set 9 | baruun-urt\n",
      "Processing Record 1 of Set 9 | taltal\n",
      "Processing Record 2 of Set 9 | kieta\n",
      "Processing Record 3 of Set 9 | doctor pedro p. pena\n",
      "City not found. Skipping...\n",
      "Processing Record 4 of Set 9 | aswan\n",
      "Processing Record 5 of Set 9 | bonthe\n",
      "Processing Record 6 of Set 9 | pine bluff\n",
      "Processing Record 7 of Set 9 | san javier\n",
      "Processing Record 8 of Set 9 | waitati\n",
      "Processing Record 9 of Set 9 | mehamn\n",
      "Processing Record 10 of Set 9 | plouzane\n",
      "Processing Record 11 of Set 9 | dauriya\n",
      "Processing Record 12 of Set 9 | surskoye\n",
      "Processing Record 13 of Set 9 | kungurtug\n",
      "Processing Record 14 of Set 9 | balkhash\n",
      "Processing Record 15 of Set 9 | meulaboh\n",
      "Processing Record 16 of Set 9 | dongying\n",
      "Processing Record 17 of Set 9 | belyy yar\n",
      "Processing Record 18 of Set 9 | dongsheng\n",
      "Processing Record 19 of Set 9 | vanavara\n",
      "Processing Record 20 of Set 9 | odweyne\n",
      "Processing Record 21 of Set 9 | galle\n",
      "Processing Record 22 of Set 9 | yulara\n",
      "Processing Record 23 of Set 9 | jejuri\n",
      "Processing Record 24 of Set 9 | hihifo\n",
      "City not found. Skipping...\n",
      "Processing Record 25 of Set 9 | ko samui\n",
      "Processing Record 26 of Set 9 | bintulu\n",
      "Processing Record 27 of Set 9 | port hedland\n",
      "Processing Record 28 of Set 9 | kandalaksha\n",
      "Processing Record 29 of Set 9 | umm kaddadah\n",
      "Processing Record 30 of Set 9 | erzin\n",
      "Processing Record 31 of Set 9 | itarema\n",
      "Processing Record 32 of Set 9 | antoniny\n",
      "Processing Record 33 of Set 9 | thakurganj\n",
      "Processing Record 34 of Set 9 | tombouctou\n",
      "Processing Record 35 of Set 9 | tevaitoa\n",
      "Processing Record 36 of Set 9 | saint anthony\n",
      "Processing Record 37 of Set 9 | chelmza\n",
      "Processing Record 38 of Set 9 | san quintin\n",
      "Processing Record 39 of Set 9 | livno\n",
      "Processing Record 40 of Set 9 | vitre\n",
      "Processing Record 41 of Set 9 | vardo\n",
      "Processing Record 42 of Set 9 | rubiataba\n",
      "Processing Record 43 of Set 9 | dulian\n",
      "Processing Record 44 of Set 9 | vila velha\n",
      "Processing Record 45 of Set 9 | mbandaka\n",
      "Processing Record 46 of Set 9 | huazhou\n",
      "Processing Record 47 of Set 9 | octeville\n",
      "Processing Record 48 of Set 9 | san julian\n",
      "Processing Record 49 of Set 9 | kapelle\n",
      "Processing Record 0 of Set 10 | kutum\n",
      "Processing Record 1 of Set 10 | kodinsk\n",
      "Processing Record 2 of Set 10 | tabas\n",
      "Processing Record 3 of Set 10 | gariaband\n",
      "Processing Record 4 of Set 10 | juigalpa\n",
      "Processing Record 5 of Set 10 | kloulklubed\n",
      "Processing Record 6 of Set 10 | cidreira\n",
      "Processing Record 7 of Set 10 | newcastle\n",
      "Processing Record 8 of Set 10 | doha\n",
      "Processing Record 9 of Set 10 | umzimvubu\n",
      "City not found. Skipping...\n",
      "Processing Record 10 of Set 10 | lima\n",
      "Processing Record 11 of Set 10 | tiarei\n",
      "Processing Record 12 of Set 10 | dinga\n",
      "Processing Record 13 of Set 10 | kudahuvadhoo\n",
      "Processing Record 14 of Set 10 | stornoway\n",
      "Processing Record 15 of Set 10 | maniitsoq\n",
      "Processing Record 16 of Set 10 | khash\n",
      "Processing Record 17 of Set 10 | linden\n",
      "Processing Record 18 of Set 10 | eureka\n",
      "Processing Record 19 of Set 10 | mattawa\n",
      "Processing Record 20 of Set 10 | svetlyy\n",
      "Processing Record 21 of Set 10 | kristiinankaupunki\n",
      "Processing Record 22 of Set 10 | landshut\n",
      "Processing Record 23 of Set 10 | fort nelson\n",
      "Processing Record 24 of Set 10 | sale\n",
      "Processing Record 25 of Set 10 | labuan\n",
      "Processing Record 26 of Set 10 | nyagan\n",
      "Processing Record 27 of Set 10 | katherine\n",
      "Processing Record 28 of Set 10 | san policarpo\n",
      "Processing Record 29 of Set 10 | midland\n",
      "Processing Record 30 of Set 10 | hamilton\n",
      "Processing Record 31 of Set 10 | bella vista\n",
      "Processing Record 32 of Set 10 | praxedis guerrero\n",
      "Processing Record 33 of Set 10 | banyuwangi\n",
      "Processing Record 34 of Set 10 | mora\n",
      "Processing Record 35 of Set 10 | normandin\n",
      "Processing Record 36 of Set 10 | havoysund\n",
      "Processing Record 37 of Set 10 | podporozhye\n",
      "Processing Record 38 of Set 10 | sorong\n",
      "Processing Record 39 of Set 10 | vallenar\n",
      "Processing Record 40 of Set 10 | west palm beach\n",
      "Processing Record 41 of Set 10 | ixtapa\n",
      "Processing Record 42 of Set 10 | ibra\n",
      "Processing Record 43 of Set 10 | vetlanda\n",
      "Processing Record 44 of Set 10 | severo-kurilsk\n",
      "Processing Record 45 of Set 10 | broken hill\n",
      "Processing Record 46 of Set 10 | hammerfest\n",
      "Processing Record 47 of Set 10 | murchison\n",
      "Processing Record 48 of Set 10 | ostrovnoy\n",
      "Processing Record 49 of Set 10 | nelson bay\n",
      "Processing Record 0 of Set 11 | risor\n",
      "Processing Record 1 of Set 11 | tahta\n",
      "Processing Record 2 of Set 11 | marawi\n",
      "Processing Record 3 of Set 11 | feira de santana\n",
      "Processing Record 4 of Set 11 | urdzhar\n",
      "City not found. Skipping...\n",
      "Processing Record 5 of Set 11 | verkhnyaya balkariya\n",
      "Processing Record 6 of Set 11 | batagay-alyta\n",
      "Processing Record 7 of Set 11 | kailua\n",
      "Processing Record 8 of Set 11 | glendive\n",
      "Processing Record 9 of Set 11 | portland\n",
      "Processing Record 10 of Set 11 | morondava\n",
      "Processing Record 11 of Set 11 | aguimes\n",
      "Processing Record 12 of Set 11 | goderich\n",
      "Processing Record 13 of Set 11 | fulacunda\n",
      "City not found. Skipping...\n",
      "Processing Record 14 of Set 11 | lahij\n",
      "Processing Record 15 of Set 11 | medicine hat\n",
      "Processing Record 16 of Set 11 | whitehorse\n",
      "Processing Record 17 of Set 11 | belmonte\n",
      "Processing Record 18 of Set 11 | oranjemund\n",
      "Processing Record 19 of Set 11 | vanimo\n",
      "Processing Record 20 of Set 11 | grants pass\n",
      "Processing Record 21 of Set 11 | san antonio del norte\n",
      "Processing Record 22 of Set 11 | celadna\n",
      "Processing Record 23 of Set 11 | tumannyy\n",
      "City not found. Skipping...\n",
      "Processing Record 24 of Set 11 | tashla\n",
      "Processing Record 25 of Set 11 | markova\n",
      "Processing Record 26 of Set 11 | shelburne\n",
      "Processing Record 27 of Set 11 | floro\n",
      "Processing Record 28 of Set 11 | herat\n",
      "Processing Record 29 of Set 11 | ola\n",
      "Processing Record 30 of Set 11 | muriwai beach\n",
      "Processing Record 31 of Set 11 | kaka\n",
      "Processing Record 32 of Set 11 | reconquista\n",
      "Processing Record 33 of Set 11 | kargasok\n",
      "Processing Record 34 of Set 11 | rocky mountain house\n",
      "Processing Record 35 of Set 11 | markala\n",
      "Processing Record 36 of Set 11 | lagos\n",
      "Processing Record 37 of Set 11 | klaksvik\n",
      "Processing Record 38 of Set 11 | xapuri\n",
      "Processing Record 39 of Set 11 | mersing\n",
      "Processing Record 40 of Set 11 | lata\n",
      "Processing Record 41 of Set 11 | hillsboro\n",
      "Processing Record 42 of Set 11 | touros\n",
      "Processing Record 43 of Set 11 | susaki\n",
      "Processing Record 44 of Set 11 | anori\n",
      "Processing Record 45 of Set 11 | thinadhoo\n",
      "Processing Record 46 of Set 11 | gouyave\n",
      "Processing Record 47 of Set 11 | mount gambier\n",
      "Processing Record 48 of Set 11 | guhagar\n",
      "Processing Record 49 of Set 11 | chara\n",
      "Processing Record 0 of Set 12 | saint-georges\n",
      "Processing Record 1 of Set 12 | zaozerne\n",
      "Processing Record 2 of Set 12 | mbeya\n",
      "Processing Record 3 of Set 12 | vestmanna\n",
      "Processing Record 4 of Set 12 | basse\n",
      "Processing Record 5 of Set 12 | shizunai\n",
      "Processing Record 6 of Set 12 | vanderhoof\n",
      "Processing Record 7 of Set 12 | zvecka\n",
      "Processing Record 8 of Set 12 | novoyegoryevskoye\n",
      "City not found. Skipping...\n",
      "Processing Record 9 of Set 12 | kalomo\n",
      "City not found. Skipping...\n",
      "Processing Record 10 of Set 12 | puerto escondido\n",
      "Processing Record 11 of Set 12 | ketchikan\n",
      "Processing Record 12 of Set 12 | qasigiannguit\n",
      "Processing Record 13 of Set 12 | alofi\n"
     ]
    },
    {
     "name": "stdout",
     "output_type": "stream",
     "text": [
      "Processing Record 14 of Set 12 | faya\n",
      "Processing Record 15 of Set 12 | amahai\n",
      "Processing Record 16 of Set 12 | atar\n",
      "Processing Record 17 of Set 12 | vegueta\n",
      "Processing Record 18 of Set 12 | pantai remis\n",
      "Processing Record 19 of Set 12 | sibolga\n",
      "Processing Record 20 of Set 12 | kiunga\n",
      "Processing Record 21 of Set 12 | imbituba\n",
      "Processing Record 22 of Set 12 | comodoro rivadavia\n",
      "Processing Record 23 of Set 12 | lac-megantic\n",
      "Processing Record 24 of Set 12 | kununurra\n",
      "Processing Record 25 of Set 12 | paso de carrasco\n",
      "Processing Record 26 of Set 12 | anadyr\n",
      "Processing Record 27 of Set 12 | miandrivazo\n",
      "Processing Record 28 of Set 12 | chutove\n",
      "Processing Record 29 of Set 12 | bacolod\n",
      "Processing Record 30 of Set 12 | alyangula\n",
      "Processing Record 31 of Set 12 | mayumba\n",
      "Processing Record 32 of Set 12 | beni\n",
      "Processing Record 33 of Set 12 | dunedin\n",
      "Processing Record 34 of Set 12 | antanifotsy\n",
      "Processing Record 35 of Set 12 | nevsehir\n",
      "Processing Record 36 of Set 12 | petropavlovsk-kamchatskiy\n",
      "Processing Record 37 of Set 12 | luksuhin\n",
      "Processing Record 38 of Set 12 | rio grande\n",
      "Processing Record 39 of Set 12 | fonte boa\n",
      "Processing Record 40 of Set 12 | ialibu\n",
      "Processing Record 41 of Set 12 | arman\n",
      "Processing Record 42 of Set 12 | constitucion\n",
      "Processing Record 43 of Set 12 | asau\n",
      "Processing Record 44 of Set 12 | sambava\n",
      "Processing Record 45 of Set 12 | namatanai\n",
      "Processing Record 46 of Set 12 | shingu\n",
      "Processing Record 47 of Set 12 | karratha\n",
      "Processing Record 48 of Set 12 | kiruna\n",
      "Processing Record 49 of Set 12 | siva\n",
      "Processing Record 0 of Set 13 | golden\n",
      "Processing Record 1 of Set 13 | qujing\n",
      "Processing Record 2 of Set 13 | novaya bryan\n",
      "Processing Record 3 of Set 13 | trairi\n",
      "Processing Record 4 of Set 13 | karasuk\n",
      "Processing Record 5 of Set 13 | marshfield\n",
      "Processing Record 6 of Set 13 | basco\n",
      "Processing Record 7 of Set 13 | alta floresta\n",
      "Processing Record 8 of Set 13 | burnie\n",
      "Processing Record 9 of Set 13 | vengerovo\n",
      "Processing Record 10 of Set 13 | pangoa\n",
      "Processing Record 11 of Set 13 | petrov val\n",
      "Processing Record 12 of Set 13 | subottsi\n",
      "Processing Record 13 of Set 13 | lazaro cardenas\n",
      "Processing Record 14 of Set 13 | codrington\n",
      "Processing Record 15 of Set 13 | kavaratti\n",
      "Processing Record 16 of Set 13 | asosa\n",
      "Processing Record 17 of Set 13 | udachnyy\n",
      "Processing Record 18 of Set 13 | sur\n",
      "Processing Record 19 of Set 13 | mutare\n",
      "Processing Record 20 of Set 13 | noumea\n",
      "Processing Record 21 of Set 13 | cabadiangan\n",
      "Processing Record 22 of Set 13 | berezovyy\n",
      "Processing Record 23 of Set 13 | suzun\n",
      "Processing Record 24 of Set 13 | caborca\n",
      "Processing Record 25 of Set 13 | bima\n",
      "Processing Record 26 of Set 13 | laguna\n",
      "Processing Record 27 of Set 13 | haibowan\n",
      "City not found. Skipping...\n",
      "Processing Record 28 of Set 13 | morwell\n",
      "Processing Record 29 of Set 13 | pimentel\n",
      "Processing Record 30 of Set 13 | channel-port aux basques\n",
      "Processing Record 31 of Set 13 | orsha\n",
      "Processing Record 32 of Set 13 | torrington\n",
      "Processing Record 33 of Set 13 | inta\n",
      "Processing Record 34 of Set 13 | chengde\n",
      "Processing Record 35 of Set 13 | loughborough\n",
      "Processing Record 36 of Set 13 | kirkwall\n",
      "Processing Record 37 of Set 13 | takoradi\n",
      "-----------------------------\n",
      "Data Retrieval Complete      \n",
      "-----------------------------\n"
     ]
    }
   ],
   "source": [
    "url = \"http://api.openweathermap.org/data/2.5/weather?units=Imperial&APPID=fa301e039ca20518362dc876f4133bb4\"\n",
    "\n",
    "# Build query URL\n",
    "city_data = []\n",
    "print(\"Beginning Data Retrieval     \")\n",
    "print(\"-----------------------------\")\n",
    "record_count = 1\n",
    "set_count = 1\n",
    "for i, city in enumerate(cities):\n",
    "    if (i % 50 == 0 and i >= 50):\n",
    "        set_count += 1\n",
    "        record_count = 0\n",
    "    city_url = url + \"&q=\" + city\n",
    "    print(\"Processing Record %s of Set %s | %s\" % (record_count, set_count, city))\n",
    "    record_count += 1\n",
    "    try:\n",
    "        # Parse the JSON and retrieve data\n",
    "        city_weather = requests.get(city_url).json()\n",
    "        city_lat = city_weather[\"coord\"][\"lat\"]\n",
    "        city_lng = city_weather[\"coord\"][\"lon\"]\n",
    "        city_max_temp = city_weather[\"main\"][\"temp_max\"]\n",
    "        city_humidity = city_weather[\"main\"][\"humidity\"]\n",
    "        city_clouds = city_weather[\"clouds\"][\"all\"]\n",
    "        city_wind = city_weather[\"wind\"][\"speed\"]\n",
    "        city_country = city_weather[\"sys\"][\"country\"]\n",
    "        city_date = city_weather[\"dt\"]\n",
    "        city_data.append({\"City\": city, \n",
    "                          \"Lat\": city_lat, \n",
    "                          \"Lng\": city_lng, \n",
    "                          \"Max Temp\": city_max_temp,\n",
    "                          \"Humidity\": city_humidity,\n",
    "                          \"Cloudiness\": city_clouds,\n",
    "                          \"Wind Speed\": city_wind,\n",
    "                          \"Country\": city_country,\n",
    "                          \"Date\": city_date})\n",
    "    except:\n",
    "        print(\"City not found. Skipping...\")\n",
    "        pass\n",
    "print(\"-----------------------------\")\n",
    "print(\"Data Retrieval Complete      \")\n",
    "print(\"-----------------------------\")\n",
    "        \n"
   ]
  },
  {
   "cell_type": "markdown",
   "metadata": {},
   "source": [
    "### Convert Raw Data to DataFrame\n",
    "* Export the city data into a .csv.\n",
    "* Display the DataFrame"
   ]
  },
  {
   "cell_type": "code",
   "execution_count": 4,
   "metadata": {},
   "outputs": [
    {
     "data": {
      "text/plain": [
       "City          593\n",
       "Lat           593\n",
       "Lng           593\n",
       "Max Temp      593\n",
       "Humidity      593\n",
       "Cloudiness    593\n",
       "Wind Speed    593\n",
       "Country       593\n",
       "Date          593\n",
       "dtype: int64"
      ]
     },
     "execution_count": 4,
     "metadata": {},
     "output_type": "execute_result"
    }
   ],
   "source": [
    "city_data_df = pd.DataFrame(city_data)\n",
    "city_data_df.count()"
   ]
  },
  {
   "cell_type": "code",
   "execution_count": 5,
   "metadata": {},
   "outputs": [
    {
     "data": {
      "text/html": [
       "<div>\n",
       "<style scoped>\n",
       "    .dataframe tbody tr th:only-of-type {\n",
       "        vertical-align: middle;\n",
       "    }\n",
       "\n",
       "    .dataframe tbody tr th {\n",
       "        vertical-align: top;\n",
       "    }\n",
       "\n",
       "    .dataframe thead th {\n",
       "        text-align: right;\n",
       "    }\n",
       "</style>\n",
       "<table border=\"1\" class=\"dataframe\">\n",
       "  <thead>\n",
       "    <tr style=\"text-align: right;\">\n",
       "      <th></th>\n",
       "      <th>City</th>\n",
       "      <th>Lat</th>\n",
       "      <th>Lng</th>\n",
       "      <th>Max Temp</th>\n",
       "      <th>Humidity</th>\n",
       "      <th>Cloudiness</th>\n",
       "      <th>Wind Speed</th>\n",
       "      <th>Country</th>\n",
       "      <th>Date</th>\n",
       "    </tr>\n",
       "  </thead>\n",
       "  <tbody>\n",
       "    <tr>\n",
       "      <th>0</th>\n",
       "      <td>huron</td>\n",
       "      <td>41.1501</td>\n",
       "      <td>-82.5499</td>\n",
       "      <td>33.01</td>\n",
       "      <td>74</td>\n",
       "      <td>57</td>\n",
       "      <td>8.01</td>\n",
       "      <td>US</td>\n",
       "      <td>1611088645</td>\n",
       "    </tr>\n",
       "    <tr>\n",
       "      <th>1</th>\n",
       "      <td>leningradskiy</td>\n",
       "      <td>69.3833</td>\n",
       "      <td>178.4167</td>\n",
       "      <td>-16.62</td>\n",
       "      <td>87</td>\n",
       "      <td>100</td>\n",
       "      <td>13.89</td>\n",
       "      <td>RU</td>\n",
       "      <td>1611088645</td>\n",
       "    </tr>\n",
       "    <tr>\n",
       "      <th>2</th>\n",
       "      <td>mapimi</td>\n",
       "      <td>25.8167</td>\n",
       "      <td>-103.8500</td>\n",
       "      <td>78.80</td>\n",
       "      <td>22</td>\n",
       "      <td>40</td>\n",
       "      <td>6.44</td>\n",
       "      <td>MX</td>\n",
       "      <td>1611088645</td>\n",
       "    </tr>\n",
       "    <tr>\n",
       "      <th>3</th>\n",
       "      <td>bluff</td>\n",
       "      <td>-46.6000</td>\n",
       "      <td>168.3333</td>\n",
       "      <td>53.40</td>\n",
       "      <td>79</td>\n",
       "      <td>97</td>\n",
       "      <td>28.52</td>\n",
       "      <td>NZ</td>\n",
       "      <td>1611088646</td>\n",
       "    </tr>\n",
       "    <tr>\n",
       "      <th>4</th>\n",
       "      <td>tiznit</td>\n",
       "      <td>29.5833</td>\n",
       "      <td>-9.5000</td>\n",
       "      <td>55.80</td>\n",
       "      <td>50</td>\n",
       "      <td>32</td>\n",
       "      <td>3.15</td>\n",
       "      <td>MA</td>\n",
       "      <td>1611088646</td>\n",
       "    </tr>\n",
       "  </tbody>\n",
       "</table>\n",
       "</div>"
      ],
      "text/plain": [
       "            City      Lat       Lng  Max Temp  Humidity  Cloudiness  \\\n",
       "0          huron  41.1501  -82.5499     33.01        74          57   \n",
       "1  leningradskiy  69.3833  178.4167    -16.62        87         100   \n",
       "2         mapimi  25.8167 -103.8500     78.80        22          40   \n",
       "3          bluff -46.6000  168.3333     53.40        79          97   \n",
       "4         tiznit  29.5833   -9.5000     55.80        50          32   \n",
       "\n",
       "   Wind Speed Country        Date  \n",
       "0        8.01      US  1611088645  \n",
       "1       13.89      RU  1611088645  \n",
       "2        6.44      MX  1611088645  \n",
       "3       28.52      NZ  1611088646  \n",
       "4        3.15      MA  1611088646  "
      ]
     },
     "execution_count": 5,
     "metadata": {},
     "output_type": "execute_result"
    }
   ],
   "source": [
    "city_data_df.head()"
   ]
  },
  {
   "cell_type": "markdown",
   "metadata": {},
   "source": [
    "## Inspect the data and remove the cities where the humidity > 100%.\n",
    "----\n",
    "Skip this step if there are no cities that have humidity > 100%. "
   ]
  },
  {
   "cell_type": "code",
   "execution_count": 6,
   "metadata": {},
   "outputs": [
    {
     "data": {
      "text/html": [
       "<div>\n",
       "<style scoped>\n",
       "    .dataframe tbody tr th:only-of-type {\n",
       "        vertical-align: middle;\n",
       "    }\n",
       "\n",
       "    .dataframe tbody tr th {\n",
       "        vertical-align: top;\n",
       "    }\n",
       "\n",
       "    .dataframe thead th {\n",
       "        text-align: right;\n",
       "    }\n",
       "</style>\n",
       "<table border=\"1\" class=\"dataframe\">\n",
       "  <thead>\n",
       "    <tr style=\"text-align: right;\">\n",
       "      <th></th>\n",
       "      <th>Lat</th>\n",
       "      <th>Lng</th>\n",
       "      <th>Max Temp</th>\n",
       "      <th>Humidity</th>\n",
       "      <th>Cloudiness</th>\n",
       "      <th>Wind Speed</th>\n",
       "      <th>Date</th>\n",
       "    </tr>\n",
       "  </thead>\n",
       "  <tbody>\n",
       "    <tr>\n",
       "      <th>count</th>\n",
       "      <td>593.000000</td>\n",
       "      <td>593.000000</td>\n",
       "      <td>593.000000</td>\n",
       "      <td>593.000000</td>\n",
       "      <td>593.000000</td>\n",
       "      <td>593.000000</td>\n",
       "      <td>5.930000e+02</td>\n",
       "    </tr>\n",
       "    <tr>\n",
       "      <th>mean</th>\n",
       "      <td>21.241222</td>\n",
       "      <td>19.088790</td>\n",
       "      <td>47.770084</td>\n",
       "      <td>71.750422</td>\n",
       "      <td>54.111298</td>\n",
       "      <td>8.467369</td>\n",
       "      <td>1.611089e+09</td>\n",
       "    </tr>\n",
       "    <tr>\n",
       "      <th>std</th>\n",
       "      <td>33.283749</td>\n",
       "      <td>90.330608</td>\n",
       "      <td>33.003001</td>\n",
       "      <td>20.149486</td>\n",
       "      <td>39.859226</td>\n",
       "      <td>5.984869</td>\n",
       "      <td>6.327886e+01</td>\n",
       "    </tr>\n",
       "    <tr>\n",
       "      <th>min</th>\n",
       "      <td>-54.800000</td>\n",
       "      <td>-175.200000</td>\n",
       "      <td>-57.060000</td>\n",
       "      <td>9.000000</td>\n",
       "      <td>0.000000</td>\n",
       "      <td>0.310000</td>\n",
       "      <td>1.611088e+09</td>\n",
       "    </tr>\n",
       "    <tr>\n",
       "      <th>25%</th>\n",
       "      <td>-6.282100</td>\n",
       "      <td>-59.950000</td>\n",
       "      <td>26.600000</td>\n",
       "      <td>61.000000</td>\n",
       "      <td>8.000000</td>\n",
       "      <td>3.830000</td>\n",
       "      <td>1.611089e+09</td>\n",
       "    </tr>\n",
       "    <tr>\n",
       "      <th>50%</th>\n",
       "      <td>26.100000</td>\n",
       "      <td>25.511200</td>\n",
       "      <td>59.000000</td>\n",
       "      <td>77.000000</td>\n",
       "      <td>65.000000</td>\n",
       "      <td>6.910000</td>\n",
       "      <td>1.611089e+09</td>\n",
       "    </tr>\n",
       "    <tr>\n",
       "      <th>75%</th>\n",
       "      <td>49.710400</td>\n",
       "      <td>98.779200</td>\n",
       "      <td>75.200000</td>\n",
       "      <td>86.000000</td>\n",
       "      <td>93.000000</td>\n",
       "      <td>11.500000</td>\n",
       "      <td>1.611089e+09</td>\n",
       "    </tr>\n",
       "    <tr>\n",
       "      <th>max</th>\n",
       "      <td>78.218600</td>\n",
       "      <td>179.316700</td>\n",
       "      <td>95.590000</td>\n",
       "      <td>100.000000</td>\n",
       "      <td>100.000000</td>\n",
       "      <td>39.080000</td>\n",
       "      <td>1.611089e+09</td>\n",
       "    </tr>\n",
       "  </tbody>\n",
       "</table>\n",
       "</div>"
      ],
      "text/plain": [
       "              Lat         Lng    Max Temp    Humidity  Cloudiness  Wind Speed  \\\n",
       "count  593.000000  593.000000  593.000000  593.000000  593.000000  593.000000   \n",
       "mean    21.241222   19.088790   47.770084   71.750422   54.111298    8.467369   \n",
       "std     33.283749   90.330608   33.003001   20.149486   39.859226    5.984869   \n",
       "min    -54.800000 -175.200000  -57.060000    9.000000    0.000000    0.310000   \n",
       "25%     -6.282100  -59.950000   26.600000   61.000000    8.000000    3.830000   \n",
       "50%     26.100000   25.511200   59.000000   77.000000   65.000000    6.910000   \n",
       "75%     49.710400   98.779200   75.200000   86.000000   93.000000   11.500000   \n",
       "max     78.218600  179.316700   95.590000  100.000000  100.000000   39.080000   \n",
       "\n",
       "               Date  \n",
       "count  5.930000e+02  \n",
       "mean   1.611089e+09  \n",
       "std    6.327886e+01  \n",
       "min    1.611088e+09  \n",
       "25%    1.611089e+09  \n",
       "50%    1.611089e+09  \n",
       "75%    1.611089e+09  \n",
       "max    1.611089e+09  "
      ]
     },
     "execution_count": 6,
     "metadata": {},
     "output_type": "execute_result"
    }
   ],
   "source": [
    "city_data_df.describe()"
   ]
  },
  {
   "cell_type": "code",
   "execution_count": 7,
   "metadata": {},
   "outputs": [
    {
     "data": {
      "text/plain": [
       "Int64Index([], dtype='int64')"
      ]
     },
     "execution_count": 7,
     "metadata": {},
     "output_type": "execute_result"
    }
   ],
   "source": [
    "#  Get the indices of cities that have humidity over 100%.\n",
    "dirty_data = city_data_df[(city_data_df[\"Humidity\"]>100)].index\n",
    "dirty_data"
   ]
  },
  {
   "cell_type": "code",
   "execution_count": 8,
   "metadata": {},
   "outputs": [
    {
     "data": {
      "text/html": [
       "<div>\n",
       "<style scoped>\n",
       "    .dataframe tbody tr th:only-of-type {\n",
       "        vertical-align: middle;\n",
       "    }\n",
       "\n",
       "    .dataframe tbody tr th {\n",
       "        vertical-align: top;\n",
       "    }\n",
       "\n",
       "    .dataframe thead th {\n",
       "        text-align: right;\n",
       "    }\n",
       "</style>\n",
       "<table border=\"1\" class=\"dataframe\">\n",
       "  <thead>\n",
       "    <tr style=\"text-align: right;\">\n",
       "      <th></th>\n",
       "      <th>City</th>\n",
       "      <th>Lat</th>\n",
       "      <th>Lng</th>\n",
       "      <th>Max Temp</th>\n",
       "      <th>Humidity</th>\n",
       "      <th>Cloudiness</th>\n",
       "      <th>Wind Speed</th>\n",
       "      <th>Country</th>\n",
       "      <th>Date</th>\n",
       "    </tr>\n",
       "  </thead>\n",
       "  <tbody>\n",
       "    <tr>\n",
       "      <th>0</th>\n",
       "      <td>huron</td>\n",
       "      <td>41.1501</td>\n",
       "      <td>-82.5499</td>\n",
       "      <td>33.01</td>\n",
       "      <td>74</td>\n",
       "      <td>57</td>\n",
       "      <td>8.01</td>\n",
       "      <td>US</td>\n",
       "      <td>1611088645</td>\n",
       "    </tr>\n",
       "    <tr>\n",
       "      <th>1</th>\n",
       "      <td>leningradskiy</td>\n",
       "      <td>69.3833</td>\n",
       "      <td>178.4167</td>\n",
       "      <td>-16.62</td>\n",
       "      <td>87</td>\n",
       "      <td>100</td>\n",
       "      <td>13.89</td>\n",
       "      <td>RU</td>\n",
       "      <td>1611088645</td>\n",
       "    </tr>\n",
       "    <tr>\n",
       "      <th>2</th>\n",
       "      <td>mapimi</td>\n",
       "      <td>25.8167</td>\n",
       "      <td>-103.8500</td>\n",
       "      <td>78.80</td>\n",
       "      <td>22</td>\n",
       "      <td>40</td>\n",
       "      <td>6.44</td>\n",
       "      <td>MX</td>\n",
       "      <td>1611088645</td>\n",
       "    </tr>\n",
       "    <tr>\n",
       "      <th>3</th>\n",
       "      <td>bluff</td>\n",
       "      <td>-46.6000</td>\n",
       "      <td>168.3333</td>\n",
       "      <td>53.40</td>\n",
       "      <td>79</td>\n",
       "      <td>97</td>\n",
       "      <td>28.52</td>\n",
       "      <td>NZ</td>\n",
       "      <td>1611088646</td>\n",
       "    </tr>\n",
       "    <tr>\n",
       "      <th>4</th>\n",
       "      <td>tiznit</td>\n",
       "      <td>29.5833</td>\n",
       "      <td>-9.5000</td>\n",
       "      <td>55.80</td>\n",
       "      <td>50</td>\n",
       "      <td>32</td>\n",
       "      <td>3.15</td>\n",
       "      <td>MA</td>\n",
       "      <td>1611088646</td>\n",
       "    </tr>\n",
       "  </tbody>\n",
       "</table>\n",
       "</div>"
      ],
      "text/plain": [
       "            City      Lat       Lng  Max Temp  Humidity  Cloudiness  \\\n",
       "0          huron  41.1501  -82.5499     33.01        74          57   \n",
       "1  leningradskiy  69.3833  178.4167    -16.62        87         100   \n",
       "2         mapimi  25.8167 -103.8500     78.80        22          40   \n",
       "3          bluff -46.6000  168.3333     53.40        79          97   \n",
       "4         tiznit  29.5833   -9.5000     55.80        50          32   \n",
       "\n",
       "   Wind Speed Country        Date  \n",
       "0        8.01      US  1611088645  \n",
       "1       13.89      RU  1611088645  \n",
       "2        6.44      MX  1611088645  \n",
       "3       28.52      NZ  1611088646  \n",
       "4        3.15      MA  1611088646  "
      ]
     },
     "execution_count": 8,
     "metadata": {},
     "output_type": "execute_result"
    }
   ],
   "source": [
    "# Make a new DataFrame equal to the city data to drop all humidity outliers by index.\n",
    "# Passing \"inplace=False\" will make a copy of the city_data DataFrame, which we call \"clean_city_data\".\n",
    "clean_data = city_data_df.drop(dirty_data, inplace = False)\n",
    "clean_data.head()"
   ]
  },
  {
   "cell_type": "code",
   "execution_count": null,
   "metadata": {},
   "outputs": [],
   "source": [
    "\n"
   ]
  },
  {
   "cell_type": "markdown",
   "metadata": {},
   "source": [
    "## Plotting the Data\n",
    "* Use proper labeling of the plots using plot titles (including date of analysis) and axes labels.\n",
    "* Save the plotted figures as .pngs."
   ]
  },
  {
   "cell_type": "markdown",
   "metadata": {},
   "source": [
    "## Latitude vs. Temperature Plot"
   ]
  },
  {
   "cell_type": "code",
   "execution_count": 63,
   "metadata": {
    "scrolled": false
   },
   "outputs": [
    {
     "data": {
      "image/png": "[encoded data removed]",
      "text/plain": [
       "<Figure size 432x288 with 1 Axes>"
      ]
     },
     "metadata": {
      "needs_background": "light"
     },
     "output_type": "display_data"
    }
   ],
   "source": [
    "ax = plt.gca()\n",
    "latvtemp = clean_data.plot(kind='scatter',x='Lat',y='Max Temp',ax=ax)\n",
    "latvtemp.set_ylabel('Temperature')\n",
    "latvtemp.set_title('Latitude vs Temperature')\n",
    "plt.savefig(\"../scat1.png\")\n",
    "plt.show()\n"
   ]
  },
  {
   "cell_type": "markdown",
   "metadata": {},
   "source": [
    "## Latitude vs. Humidity Plot"
   ]
  },
  {
   "cell_type": "code",
   "execution_count": 57,
   "metadata": {
    "scrolled": true
   },
   "outputs": [
    {
     "data": {
      "image/png": "[encoded data removed]",
      "text/plain": [
       "<Figure size 432x288 with 1 Axes>"
      ]
     },
     "metadata": {
      "needs_background": "light"
     },
     "output_type": "display_data"
    }
   ],
   "source": [
    "ax = plt.gca()\n",
    "latvtemp = clean_data.plot(kind='scatter',x='Lat',y='Humidity',ax=ax)\n",
    "latvtemp.set_ylabel('Temperature')\n",
    "latvtemp.set_title('Lat vs Humidity')\n",
    "plt.savefig(\"../scat2.png\")\n",
    "plt.show()"
   ]
  },
  {
   "cell_type": "code",
   "execution_count": null,
   "metadata": {},
   "outputs": [],
   "source": [
    "# The temperature graph seems to show a relationship between the latitudes and temps. The lower the latitude, the lower the temp. The humidity seems to show little correlation between the latitude and the humidity."
   ]
  },
  {
   "cell_type": "markdown",
   "metadata": {},
   "source": [
    "## Latitude vs. Cloudiness Plot"
   ]
  },
  {
   "cell_type": "code",
   "execution_count": 58,
   "metadata": {},
   "outputs": [
    {
     "data": {
      "image/png": "[encoded data removed]",
      "text/plain": [
       "<Figure size 432x288 with 1 Axes>"
      ]
     },
     "metadata": {
      "needs_background": "light"
     },
     "output_type": "display_data"
    }
   ],
   "source": [
    "ax = plt.gca()\n",
    "latvtemp = clean_data.plot(kind='scatter',x='Lat',y='Cloudiness',ax=ax)\n",
    "latvtemp.set_ylabel('Cloudiness')\n",
    "latvtemp.set_title('Lat vs Cloudiness')\n",
    "plt.savefig(\"../scat3.png\")\n",
    "plt.show()"
   ]
  },
  {
   "cell_type": "markdown",
   "metadata": {},
   "source": [
    "## Latitude vs. Wind Speed Plot"
   ]
  },
  {
   "cell_type": "code",
   "execution_count": 59,
   "metadata": {
    "scrolled": true
   },
   "outputs": [
    {
     "data": {
      "image/png": "[encoded data removed]",
      "text/plain": [
       "<Figure size 432x288 with 1 Axes>"
      ]
     },
     "metadata": {
      "needs_background": "light"
     },
     "output_type": "display_data"
    }
   ],
   "source": [
    "ax = plt.gca()\n",
    "latvtemp = clean_data.plot(kind='scatter',x='Lat',y='Wind Speed',ax=ax)\n",
    "latvtemp.set_ylabel('Wind Speed')\n",
    "latvtemp.set_title('Lat vs Wind Speed')\n",
    "plt.savefig(\"../scat4.png\")\n",
    "plt.show()"
   ]
  },
  {
   "cell_type": "code",
   "execution_count": null,
   "metadata": {},
   "outputs": [],
   "source": [
    "#Based on how the points are oriented there does not seem to be much of a correlation in either gtaph."
   ]
  },
  {
   "cell_type": "markdown",
   "metadata": {},
   "source": [
    "## Linear Regression"
   ]
  },
  {
   "cell_type": "code",
   "execution_count": 41,
   "metadata": {},
   "outputs": [],
   "source": [
    "def plot_linear(x_values, y_values, title, text_coor):\n",
    "    (slope, intercept, rvalue, pvalue, stderr) = linregress(x_values, y_values)\n",
    "    regress_values = x_values * slope + intercept\n",
    "    line_eq = \"y = \" + str(round(slope,2)) + \"x + \" + str(round(intercept,2))\n",
    "    plt.scatter(x_values,y_values)\n",
    "    plt.plot(x_values,regress_values,\"r-\")\n",
    "    plt.annotate(line_eq,text_coor,fontsize=15,color=\"red\")\n",
    "    print(f\"r-value:{rvalue**2}\")\n",
    "    plt.show()"
   ]
  },
  {
   "cell_type": "code",
   "execution_count": 24,
   "metadata": {},
   "outputs": [],
   "source": [
    "NHem = city_data_df[(city_data_df[\"Lat\"]>=0)]\n",
    "SHem = city_data_df[(city_data_df[\"Lat\"]<0)]"
   ]
  },
  {
   "cell_type": "markdown",
   "metadata": {},
   "source": [
    "####  Northern Hemisphere - Max Temp vs. Latitude Linear Regression"
   ]
  },
  {
   "cell_type": "code",
   "execution_count": 64,
   "metadata": {
    "scrolled": true
   },
   "outputs": [
    {
     "name": "stdout",
     "output_type": "stream",
     "text": [
      "r-value:0.6857403209579751\n"
     ]
    },
    {
     "data": {
      "image/png": "[encoded data removed]",
      "text/plain": [
       "<Figure size 432x288 with 1 Axes>"
      ]
     },
     "metadata": {
      "needs_background": "light"
     },
     "output_type": "display_data"
    }
   ],
   "source": [
    "x_values = NHem['Lat']\n",
    "y_values = NHem[\"Max Temp\"]\n",
    "plt.xlabel('Latitude')\n",
    "plt.ylabel('Max Temp')\n",
    "plt.title('Latitude vs Max Temp')\n",
    "plt.savefig(\"../scat5.png\")\n",
    "plot_linear(x_values, y_values,'Max Temp',(6, 30))"
   ]
  },
  {
   "cell_type": "code",
   "execution_count": 65,
   "metadata": {
    "scrolled": true
   },
   "outputs": [
    {
     "name": "stdout",
     "output_type": "stream",
     "text": [
      "r-value:0.2737559534570606\n"
     ]
    },
    {
     "data": {
      "image/png": "[encoded data removed]",
      "text/plain": [
       "<Figure size 432x288 with 1 Axes>"
      ]
     },
     "metadata": {
      "needs_background": "light"
     },
     "output_type": "display_data"
    }
   ],
   "source": [
    "x_values = SHem['Lat']\n",
    "y_values = SHem[\"Max Temp\"]\n",
    "plt.xlabel('Latitude')\n",
    "plt.ylabel('Max Temp')\n",
    "plt.title('Latitude vs Max Temp')\n",
    "plot_linear(x_values, y_values,'Max Temp',(-55, 90))"
   ]
  },
  {
   "cell_type": "code",
   "execution_count": null,
   "metadata": {},
   "outputs": [],
   "source": [
    "#There does seem to be a correlaton between the temperature and latitudes of the cities. It can be obserbed that the closer the cities are to the poles the colder it is. "
   ]
  },
  {
   "cell_type": "code",
   "execution_count": 66,
   "metadata": {
    "scrolled": true
   },
   "outputs": [
    {
     "name": "stdout",
     "output_type": "stream",
     "text": [
      "r-value:0.10644563642400705\n"
     ]
    },
    {
     "data": {
      "image/png": "[encoded data removed]",
      "text/plain": [
       "<Figure size 432x288 with 1 Axes>"
      ]
     },
     "metadata": {
      "needs_background": "light"
     },
     "output_type": "display_data"
    }
   ],
   "source": [
    "x_values = NHem['Lat']\n",
    "y_values = NHem[\"Humidity\"]\n",
    "plt.xlabel('Latitude')\n",
    "plt.ylabel('Humidity (%)')\n",
    "plt.title('Latitude vs Humidity (%)')\n",
    "plot_linear(x_values, y_values,'Humidity',(40, 10))"
   ]
  },
  {
   "cell_type": "code",
   "execution_count": 67,
   "metadata": {
    "scrolled": false
   },
   "outputs": [
    {
     "name": "stdout",
     "output_type": "stream",
     "text": [
      "r-value:0.14274752819131714\n"
     ]
    },
    {
     "data": {
      "image/png": "[encoded data removed]",
      "text/plain": [
       "<Figure size 432x288 with 1 Axes>"
      ]
     },
     "metadata": {
      "needs_background": "light"
     },
     "output_type": "display_data"
    }
   ],
   "source": [
    "x_values = SHem['Lat']\n",
    "y_values = SHem[\"Humidity\"]\n",
    "plt.xlabel('Latitude')\n",
    "plt.ylabel('Humidity (%)')\n",
    "plt.title('Latitude vs Humidity (%)')\n",
    "plot_linear(x_values, y_values,'Humidity',(-50, 20))"
   ]
  },
  {
   "cell_type": "code",
   "execution_count": null,
   "metadata": {},
   "outputs": [],
   "source": [
    "#According to both r values there does not seem to be much of a correlation. "
   ]
  },
  {
   "cell_type": "markdown",
   "metadata": {},
   "source": [
    "####  Northern Hemisphere - Cloudiness (%) vs. Latitude Linear Regression"
   ]
  },
  {
   "cell_type": "code",
   "execution_count": 68,
   "metadata": {},
   "outputs": [
    {
     "name": "stdout",
     "output_type": "stream",
     "text": [
      "r-value:0.07507254658242808\n"
     ]
    },
    {
     "data": {
      "image/png": "[encoded data removed]",
      "text/plain": [
       "<Figure size 432x288 with 1 Axes>"
      ]
     },
     "metadata": {
      "needs_background": "light"
     },
     "output_type": "display_data"
    }
   ],
   "source": [
    "x_values = NHem['Lat']\n",
    "y_values = NHem[\"Cloudiness\"]\n",
    "plt.xlabel('Latitude')\n",
    "plt.ylabel('Cloudiness (%)')\n",
    "plt.title('Latitude vs Cloudiness (%)')\n",
    "plot_linear(x_values, y_values,'Cloudiness',(40, 10))"
   ]
  },
  {
   "cell_type": "markdown",
   "metadata": {},
   "source": [
    "####  Southern Hemisphere - Cloudiness (%) vs. Latitude Linear Regression"
   ]
  },
  {
   "cell_type": "code",
   "execution_count": 69,
   "metadata": {},
   "outputs": [
    {
     "name": "stdout",
     "output_type": "stream",
     "text": [
      "r-value:0.11889551819577464\n"
     ]
    },
    {
     "data": {
      "image/png": "[encoded data removed]",
      "text/plain": [
       "<Figure size 432x288 with 1 Axes>"
      ]
     },
     "metadata": {
      "needs_background": "light"
     },
     "output_type": "display_data"
    }
   ],
   "source": [
    "x_values = SHem['Lat']\n",
    "y_values = SHem[\"Cloudiness\"]\n",
    "plt.xlabel('Latitude')\n",
    "plt.ylabel('Cloudiness (%)')\n",
    "plt.title('Latitude vs Cloudiness (%)')\n",
    "plot_linear(x_values, y_values,'Cloudiness',(-30, 30))"
   ]
  },
  {
   "cell_type": "code",
   "execution_count": null,
   "metadata": {},
   "outputs": [],
   "source": [
    "#There seems to be little correlation between the latitude and clouds because clouds can seem to appear anywhere in the world. "
   ]
  },
  {
   "cell_type": "markdown",
   "metadata": {},
   "source": [
    "####  Northern Hemisphere - Wind Speed (mph) vs. Latitude Linear Regression"
   ]
  },
  {
   "cell_type": "code",
   "execution_count": 71,
   "metadata": {},
   "outputs": [
    {
     "name": "stdout",
     "output_type": "stream",
     "text": [
      "r-value:0.0021892925053601255\n"
     ]
    },
    {
     "data": {
      "image/png": "[encoded data removed]",
      "text/plain": [
       "<Figure size 432x288 with 1 Axes>"
      ]
     },
     "metadata": {
      "needs_background": "light"
     },
     "output_type": "display_data"
    }
   ],
   "source": [
    "x_values = NHem['Lat']\n",
    "y_values = NHem[\"Wind Speed\"]\n",
    "plt.xlabel('Latitude')\n",
    "plt.ylabel('Wind Speed (mph)')\n",
    "plt.title('Latitude vs Wind Speed (mph)')\n",
    "plot_linear(x_values, y_values,'Wind Speed',(40, 25))"
   ]
  },
  {
   "cell_type": "markdown",
   "metadata": {},
   "source": [
    "####  Southern Hemisphere - Wind Speed (mph) vs. Latitude Linear Regression"
   ]
  },
  {
   "cell_type": "code",
   "execution_count": 72,
   "metadata": {
    "scrolled": true
   },
   "outputs": [
    {
     "name": "stdout",
     "output_type": "stream",
     "text": [
      "r-value:0.11010990263188675\n"
     ]
    },
    {
     "data": {
      "image/png": "[encoded data removed]",
      "text/plain": [
       "<Figure size 432x288 with 1 Axes>"
      ]
     },
     "metadata": {
      "needs_background": "light"
     },
     "output_type": "display_data"
    }
   ],
   "source": [
    "x_values = SHem['Lat']\n",
    "y_values = SHem[\"Wind Speed\"]\n",
    "plt.xlabel('Latitude')\n",
    "plt.ylabel('Wind Speed (mph)')\n",
    "plt.title('Latitude vs Wind Speed (mph)')\n",
    "plot_linear(x_values, y_values,'Wind Speed',(-50, 20))"
   ]
  },
  {
   "cell_type": "code",
   "execution_count": null,
   "metadata": {},
   "outputs": [],
   "source": [
    "# There does not seem to be a connection between wind speed and latitude, but if they did a graph about wind speed and height."
   ]
  }
 ],
 "metadata": {
  "anaconda-cloud": {},
  "kernel_info": {
   "name": "python3"
  },
  "kernelspec": {
   "display_name": "Python 3",
   "language": "python",
   "name": "python3"
  },
  "language_info": {
   "codemirror_mode": {
    "name": "ipython",
    "version": 3
   },
   "file_extension": ".py",
   "mimetype": "text/x-python",
   "name": "python",
   "nbconvert_exporter": "python",
   "pygments_lexer": "ipython3",
   "version": "3.6.10"
  },
  "latex_envs": {
   "LaTeX_envs_menu_present": true,
   "autoclose": false,
   "autocomplete": true,
   "bibliofile": "biblio.bib",
   "cite_by": "apalike",
   "current_citInitial": 1,
   "eqLabelWithNumbers": true,
   "eqNumInitial": 1,
   "hotkeys": {
    "equation": "Ctrl-E",
    "itemize": "Ctrl-I"
   },
   "labels_anchors": false,
   "latex_user_defs": false,
   "report_style_numbering": false,
   "user_envs_cfg": false
  },
  "nteract": {
   "version": "0.12.3"
  }
 },
 "nbformat": 4,
 "nbformat_minor": 2
}
